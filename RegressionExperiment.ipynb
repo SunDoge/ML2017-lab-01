{
 "cells": [
  {
   "cell_type": "code",
   "execution_count": 1,
   "metadata": {
    "collapsed": true
   },
   "outputs": [],
   "source": [
    "import requests\n",
    "from sklearn.datasets import load_svmlight_file\n",
    "from sklearn.model_selection import train_test_split\n",
    "from sklearn.metrics import r2_score, mean_squared_error\n",
    "import numpy as np\n",
    "import matplotlib.pyplot as plt\n",
    "from scipy.sparse import hstack"
   ]
  },
  {
   "cell_type": "markdown",
   "metadata": {},
   "source": [
    "Download text data from [Source: UCI / Housing (Boston)](https://www.csie.ntu.edu.tw/~cjlin/libsvmtools/datasets/regression/housing_scale)."
   ]
  },
  {
   "cell_type": "code",
   "execution_count": 2,
   "metadata": {},
   "outputs": [],
   "source": [
    "housing_data_url = 'https://www.csie.ntu.edu.tw/~cjlin/libsvmtools/datasets/regression/housing_scale'\n",
    "data = requests.get(housing_data_url)\n",
    "housing_svmlight_file_name = 'housing_scale.svm'\n",
    "with open(housing_svmlight_file_name, 'w') as f:\n",
    "    f.write(data.text)"
   ]
  },
  {
   "cell_type": "code",
   "execution_count": 3,
   "metadata": {},
   "outputs": [],
   "source": [
    "housing_svmlight_file_name = 'housing_scale.svm'\n",
    "X, y = load_svmlight_file(housing_svmlight_file_name)"
   ]
  },
  {
   "cell_type": "code",
   "execution_count": 4,
   "metadata": {},
   "outputs": [],
   "source": [
    "X_train, X_validation, y_train, y_validation = train_test_split(X, y, test_size=0.2)"
   ]
  },
  {
   "cell_type": "code",
   "execution_count": 5,
   "metadata": {},
   "outputs": [],
   "source": [
    "def linear_fn(x, w):\n",
    "    return x.dot(w)"
   ]
  },
  {
   "cell_type": "code",
   "execution_count": 6,
   "metadata": {},
   "outputs": [],
   "source": [
    "def loss_fn(x, y, w):\n",
    "    m = len(y)\n",
    "    return np.sum((x.dot(w) - y) ** 2) / (2 * m)"
   ]
  },
  {
   "cell_type": "code",
   "execution_count": 7,
   "metadata": {},
   "outputs": [],
   "source": [
    "# x0 = np.ones((len(y_train), 1))\n",
    "# X_train_origin = X_train\n",
    "# X_train = hstack([x0, X_train])\n",
    "# w = np.zeros(X_train.shape[1])\n",
    "# X_train_origin"
   ]
  },
  {
   "cell_type": "code",
   "execution_count": 8,
   "metadata": {},
   "outputs": [],
   "source": [
    "# initial_loss = loss_fn(X_train, y_train, w)\n",
    "# initial_loss"
   ]
  },
  {
   "cell_type": "code",
   "execution_count": 9,
   "metadata": {},
   "outputs": [],
   "source": [
    "def gradient_descent(x, y, w=None, alpha=0.001, iterations=50000):\n",
    "    x0 = np.ones((len(y), 1))\n",
    "    x = hstack([x0, x])\n",
    "    if w == None:\n",
    "        w = np.zeros(x.shape[1])\n",
    "    \n",
    "    loss_history = [0] * iterations\n",
    "    m = len(y)\n",
    "    \n",
    "    for iteration in range(iterations):\n",
    "        h = x.dot(w)\n",
    "        loss = h - y\n",
    "        \n",
    "        gradient = x.T.dot(loss) / m\n",
    "        w = w - alpha * gradient\n",
    "        loss = loss_fn(x, y, w)\n",
    "        loss_history[iteration] = loss\n",
    "        \n",
    "    return w, loss_history"
   ]
  },
  {
   "cell_type": "code",
   "execution_count": 10,
   "metadata": {},
   "outputs": [
    {
     "name": "stdout",
     "output_type": "stream",
     "text": [
      "[  9.02769433  -6.56102193   2.10345671  -0.96229222   1.44318495\n",
      "  -4.21965451   8.10427306   0.04446416  -8.88013242   3.34412464\n",
      "  -2.5245555   -4.28227448   1.80665389 -10.00701573]\n",
      "11.3213700478\n"
     ]
    }
   ],
   "source": [
    "new_w, loss_history = gradient_descent(X_train, y_train)\n",
    "print(new_w)\n",
    "print(loss_history[-1])"
   ]
  },
  {
   "cell_type": "code",
   "execution_count": 11,
   "metadata": {},
   "outputs": [],
   "source": [
    "def rmse(y_true, y_pred):\n",
    "    return np.sqrt(mean_squared_error(y_true, y_pred))"
   ]
  },
  {
   "cell_type": "code",
   "execution_count": 12,
   "metadata": {},
   "outputs": [],
   "source": [
    "y_pred = hstack([np.ones((len(y_train), 1)), X_train]).dot(new_w)"
   ]
  },
  {
   "cell_type": "code",
   "execution_count": 13,
   "metadata": {},
   "outputs": [
    {
     "name": "stdout",
     "output_type": "stream",
     "text": [
      "4.75843882965\n",
      "0.729940833545\n"
     ]
    }
   ],
   "source": [
    "print(rmse(y_train, y_pred))\n",
    "print(r2_score(y_train, y_pred))"
   ]
  },
  {
   "cell_type": "code",
   "execution_count": 14,
   "metadata": {},
   "outputs": [
    {
     "name": "stdout",
     "output_type": "stream",
     "text": [
      "5.01179783065\n",
      "0.700417094174\n"
     ]
    }
   ],
   "source": [
    "from sklearn.linear_model import LinearRegression\n",
    "clf = LinearRegression()\n",
    "clf.fit(X_train, y_train)\n",
    "y_pred_sk = clf.predict(X_train)\n",
    "print(rmse(y_train, y_pred_sk))\n",
    "print(r2_score(y_train, y_pred_sk))"
   ]
  },
  {
   "cell_type": "code",
   "execution_count": 15,
   "metadata": {},
   "outputs": [
    {
     "data": {
      "image/png": "[encoded data removed]",
      "text/plain": [
       "<matplotlib.figure.Figure at 0x11385dc88>"
      ]
     },
     "metadata": {},
     "output_type": "display_data"
    }
   ],
   "source": [
    "plt.plot(loss_history)\n",
    "plt.show()"
   ]
  },
  {
   "cell_type": "code",
   "execution_count": 16,
   "metadata": {},
   "outputs": [],
   "source": [
    "_, loss_history_validation = gradient_descent(X_validation, y_validation)"
   ]
  },
  {
   "cell_type": "code",
   "execution_count": 18,
   "metadata": {},
   "outputs": [
    {
     "data": {
      "image/png": "[encoded data removed]",
      "text/plain": [
       "<matplotlib.figure.Figure at 0x113e02860>"
      ]
     },
     "metadata": {},
     "output_type": "display_data"
    }
   ],
   "source": [
    "plt.figure('loss', figsize=(12, 10))\n",
    "plt.plot(loss_history, label='train loss')\n",
    "plt.plot(loss_history_validation, label='validation loss')\n",
    "plt.xlabel('iterations')\n",
    "plt.ylabel('loss')\n",
    "plt.legend()\n",
    "plt.show()"
   ]
  },
  {
   "cell_type": "code",
   "execution_count": 19,
   "metadata": {},
   "outputs": [],
   "source": [
    "plt.savefig('regression.png')"
   ]
  },
  {
   "cell_type": "code",
   "execution_count": null,
   "metadata": {},
   "outputs": [],
   "source": []
  }
 ],
 "metadata": {
  "kernelspec": {
   "display_name": "Python 3",
   "language": "python",
   "name": "python3"
  },
  "language_info": {
   "codemirror_mode": {
    "name": "ipython",
    "version": 3
   },
   "file_extension": ".py",
   "mimetype": "text/x-python",
   "name": "python",
   "nbconvert_exporter": "python",
   "pygments_lexer": "ipython3",
   "version": "3.6.3"
  }
 },
 "nbformat": 4,
 "nbformat_minor": 2
}
