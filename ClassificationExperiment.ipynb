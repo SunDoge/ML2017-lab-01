{
 "cells": [
  {
   "cell_type": "code",
   "execution_count": 2,
   "metadata": {
    "collapsed": true
   },
   "outputs": [],
   "source": [
    "import requests\n",
    "from sklearn.datasets import load_svmlight_file\n",
    "from sklearn.model_selection import train_test_split\n",
    "from sklearn.metrics import r2_score, mean_squared_error\n",
    "from sklearn.preprocessing import LabelEncoder\n",
    "import numpy as np\n",
    "import matplotlib.pyplot as plt\n",
    "from scipy.sparse import hstack\n",
    "# from random import shuffle"
   ]
  },
  {
   "cell_type": "code",
   "execution_count": 4,
   "metadata": {},
   "outputs": [],
   "source": [
    "# australian_data_url = 'https://www.csie.ntu.edu.tw/~cjlin/libsvmtools/datasets/binary/australian_scale'\n",
    "# data = requests.get(australian_data_url)\n",
    "australian_svmlight_file_name = 'australian_scale.svm'\n",
    "# with open(australian_svmlight_file_name, 'w') as f:\n",
    "#     f.write(data.text)"
   ]
  },
  {
   "cell_type": "code",
   "execution_count": 5,
   "metadata": {},
   "outputs": [],
   "source": [
    "def loss_fn(w, x, y, reg):\n",
    "    num_train = x.shape[0]\n",
    "    num_classes = w.shape[1]\n",
    "    scores = x.dot(w)\n",
    "    correct_class_scores = scores[range(num_train), list(y)].reshape(-1, 1)\n",
    "    margins = np.maximum(0, scores - correct_class_scores + 1)\n",
    "    margins[range(num_train), list(y)] = 0\n",
    "    loss = np.sum(margins) / num_train + 0.5 * reg * np.sum(w * w)\n",
    "    coeff_mat = np.zeros((num_train, num_classes))\n",
    "    coeff_mat[margins > 0] = 1\n",
    "    coeff_mat[range(num_train), list(y)] = 0\n",
    "    coeff_mat[range(num_train), list(y)] = - np.sum(coeff_mat, axis=1)\n",
    "    \n",
    "    dw = x.T.dot(coeff_mat)\n",
    "    dw = dw / num_train + reg * w\n",
    "    return loss, dw"
   ]
  },
  {
   "cell_type": "code",
   "execution_count": 21,
   "metadata": {},
   "outputs": [],
   "source": [
    "class LinearClassifier:\n",
    "    def __init__(self):\n",
    "        self.w = None\n",
    "        self.le = LabelEncoder()\n",
    "        \n",
    "    def train(self, X, y, learning_rate=1e-3, reg=1e-5, num_iters=1000, batch_size=200, verbose=False):\n",
    "        num_train, dim = X.shape\n",
    "        y = self.le.fit_transform(y)\n",
    "        \n",
    "        num_classes = int(np.max(y)) + 1\n",
    "        if self.w is None:\n",
    "            print(dim, num_classes)\n",
    "            self.w = 0.001 * np.random.randn(dim, num_classes)\n",
    "            \n",
    "        loss_history = []\n",
    "        for i in range(num_iters):\n",
    "            batch_idx = np.random.choice(num_train, batch_size, replace=True)\n",
    "            X_batch = X[batch_idx]\n",
    "            y_batch = y[batch_idx]\n",
    "            \n",
    "            loss, grad = self.loss(X_batch, y_batch, reg)\n",
    "            \n",
    "            loss_history.append(loss)\n",
    "            \n",
    "            self.w += -1 * learning_rate * grad\n",
    "            \n",
    "            if verbose and i % 100 == 0:\n",
    "                print('iteration %d / %d: loss %f' % (i, num_iters, loss))\n",
    "                \n",
    "        return loss_history\n",
    "        \n",
    "    def predict(self, X):\n",
    "        y_pred = np.zeros(X.shape[1])\n",
    "        scores = X.dot(self.w)\n",
    "        y_pred = np.argmax(scores, axis=1)\n",
    "        y_pred = self.le.inverse_transform(y_pred)\n",
    "        return y_pred"
   ]
  },
  {
   "cell_type": "code",
   "execution_count": 22,
   "metadata": {},
   "outputs": [],
   "source": [
    "class LinearSVM(LinearClassifier):\n",
    "    def loss(self, X_batch, y_batch, reg):\n",
    "        return loss_fn(self.w, X_batch, y_batch, reg)"
   ]
  },
  {
   "cell_type": "code",
   "execution_count": 23,
   "metadata": {},
   "outputs": [],
   "source": [
    "X, y = load_svmlight_file(australian_svmlight_file_name)"
   ]
  },
  {
   "cell_type": "code",
   "execution_count": 24,
   "metadata": {},
   "outputs": [],
   "source": [
    "X_train, X_valid, y_train, y_valid = train_test_split(X, y, test_size=0.2)"
   ]
  },
  {
   "cell_type": "code",
   "execution_count": 25,
   "metadata": {},
   "outputs": [
    {
     "name": "stdout",
     "output_type": "stream",
     "text": [
      "14 2\n",
      "iteration 0 / 1000: loss 0.999629\n",
      "iteration 100 / 1000: loss 0.789514\n",
      "iteration 200 / 1000: loss 0.635331\n",
      "iteration 300 / 1000: loss 0.474661\n",
      "iteration 400 / 1000: loss 0.396808\n",
      "iteration 500 / 1000: loss 0.374976\n",
      "iteration 600 / 1000: loss 0.353037\n",
      "iteration 700 / 1000: loss 0.357544\n",
      "iteration 800 / 1000: loss 0.372927\n",
      "iteration 900 / 1000: loss 0.327302\n"
     ]
    }
   ],
   "source": [
    "clf = LinearSVM()\n",
    "loss_history = clf.train(X_train, y_train, verbose=True)"
   ]
  },
  {
   "cell_type": "code",
   "execution_count": 26,
   "metadata": {},
   "outputs": [
    {
     "data": {
      "image/png": "[encoded data removed]",
      "text/plain": [
       "<matplotlib.figure.Figure at 0x117319f60>"
      ]
     },
     "metadata": {},
     "output_type": "display_data"
    }
   ],
   "source": [
    "plt.plot(loss_history)\n",
    "plt.show()"
   ]
  },
  {
   "cell_type": "code",
   "execution_count": 28,
   "metadata": {},
   "outputs": [
    {
     "data": {
      "text/plain": [
       "0.86050724637681164"
      ]
     },
     "execution_count": 28,
     "metadata": {},
     "output_type": "execute_result"
    }
   ],
   "source": [
    "from sklearn.metrics import accuracy_score\n",
    "accuracy_score(y_train, clf.predict(X_train))"
   ]
  },
  {
   "cell_type": "code",
   "execution_count": 30,
   "metadata": {},
   "outputs": [
    {
     "data": {
      "text/plain": [
       "0.875"
      ]
     },
     "execution_count": 30,
     "metadata": {},
     "output_type": "execute_result"
    }
   ],
   "source": [
    "from sklearn.svm import LinearSVC\n",
    "lsvc = LinearSVC()\n",
    "lsvc.fit(X_train, y_train)\n",
    "lsvc.score(X_train, y_train)"
   ]
  },
  {
   "cell_type": "code",
   "execution_count": null,
   "metadata": {},
   "outputs": [],
   "source": []
  }
 ],
 "metadata": {
  "kernelspec": {
   "display_name": "Python 3",
   "language": "python",
   "name": "python3"
  },
  "language_info": {
   "codemirror_mode": {
    "name": "ipython",
    "version": 3
   },
   "file_extension": ".py",
   "mimetype": "text/x-python",
   "name": "python",
   "nbconvert_exporter": "python",
   "pygments_lexer": "ipython3",
   "version": "3.6.3"
  }
 },
 "nbformat": 4,
 "nbformat_minor": 2
}
